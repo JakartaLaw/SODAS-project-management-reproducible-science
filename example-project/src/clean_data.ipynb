{
 "cells": [
  {
   "cell_type": "code",
   "execution_count": 13,
   "metadata": {},
   "outputs": [
    {
     "data": {
      "text/plain": [
       "PosixPath('/Users/pcv439/Documents/Projects/SODAS-project-management-reproducible-science/example-project')"
      ]
     },
     "execution_count": 13,
     "metadata": {},
     "output_type": "execute_result"
    }
   ],
   "source": [
    "import pandas as pd\n",
    "import matplotlib.pyplot as plt\n",
    "import os\n",
    "import pathlib\n",
    "\n",
    "def get_root_path():\n",
    "    try: \n",
    "        # the case of a normal python file\n",
    "        root_path = os.path.abspath(__file__)\n",
    "    except:\n",
    "        # the case of notbook, where the __file__ nees to be in quotes\n",
    "        root_path = os.path.dirname(os.path.abspath(\"__file__\"))\n",
    "    return pathlib.Path(root_path).parent\n",
    "\n",
    "root_path = get_root_path()\n",
    "root_path"
   ]
  },
  {
   "cell_type": "code",
   "execution_count": 14,
   "metadata": {},
   "outputs": [
    {
     "name": "stderr",
     "output_type": "stream",
     "text": [
      "/var/folders/j4/79pszr2s63x4pyfdwfp6509r0000gp/T/ipykernel_14850/438358013.py:1: DtypeWarning: Columns (14,15,21,23) have mixed types. Specify dtype option on import or set low_memory=False.\n",
      "  df_raw = pd.read_csv(root_path / 'data/raw_data/president_polls_historical.csv')\n"
     ]
    }
   ],
   "source": [
    "df_raw = pd.read_csv(root_path / 'data/raw_data/president_polls_historical.csv')"
   ]
  },
  {
   "cell_type": "code",
   "execution_count": 15,
   "metadata": {},
   "outputs": [
    {
     "name": "stderr",
     "output_type": "stream",
     "text": [
      "/var/folders/j4/79pszr2s63x4pyfdwfp6509r0000gp/T/ipykernel_14850/3432347899.py:4: UserWarning: Could not infer format, so each element will be parsed individually, falling back to `dateutil`. To ensure parsing is consistent and as-expected, please specify a format.\n",
      "  df['start_date'] = pd.to_datetime(df['start_date'])\n",
      "/var/folders/j4/79pszr2s63x4pyfdwfp6509r0000gp/T/ipykernel_14850/3432347899.py:4: SettingWithCopyWarning: \n",
      "A value is trying to be set on a copy of a slice from a DataFrame.\n",
      "Try using .loc[row_indexer,col_indexer] = value instead\n",
      "\n",
      "See the caveats in the documentation: https://pandas.pydata.org/pandas-docs/stable/user_guide/indexing.html#returning-a-view-versus-a-copy\n",
      "  df['start_date'] = pd.to_datetime(df['start_date'])\n",
      "/var/folders/j4/79pszr2s63x4pyfdwfp6509r0000gp/T/ipykernel_14850/3432347899.py:5: UserWarning: Could not infer format, so each element will be parsed individually, falling back to `dateutil`. To ensure parsing is consistent and as-expected, please specify a format.\n",
      "  df['end_date'] = pd.to_datetime(df['end_date'])\n",
      "/var/folders/j4/79pszr2s63x4pyfdwfp6509r0000gp/T/ipykernel_14850/3432347899.py:5: SettingWithCopyWarning: \n",
      "A value is trying to be set on a copy of a slice from a DataFrame.\n",
      "Try using .loc[row_indexer,col_indexer] = value instead\n",
      "\n",
      "See the caveats in the documentation: https://pandas.pydata.org/pandas-docs/stable/user_guide/indexing.html#returning-a-view-versus-a-copy\n",
      "  df['end_date'] = pd.to_datetime(df['end_date'])\n"
     ]
    }
   ],
   "source": [
    "relevant_columns = ['poll_id', 'start_date', 'end_date', 'pollster', 'sponsors', 'pct', 'party', 'answer', 'candidate_name']\n",
    "\n",
    "df = df_raw[relevant_columns]\n",
    "df['start_date'] = pd.to_datetime(df['start_date'])\n",
    "df['end_date'] = pd.to_datetime(df['end_date'])\n",
    "\n",
    "df.to_parquet(root_path / 'data/processed_data/president_polls.parquet')"
   ]
  },
  {
   "cell_type": "code",
   "execution_count": null,
   "metadata": {},
   "outputs": [],
   "source": []
  }
 ],
 "metadata": {
  "kernelspec": {
   "display_name": "sodas-reproducible-project",
   "language": "python",
   "name": "python3"
  },
  "language_info": {
   "codemirror_mode": {
    "name": "ipython",
    "version": 3
   },
   "file_extension": ".py",
   "mimetype": "text/x-python",
   "name": "python",
   "nbconvert_exporter": "python",
   "pygments_lexer": "ipython3",
   "version": "3.10.12"
  },
  "orig_nbformat": 4
 },
 "nbformat": 4,
 "nbformat_minor": 2
}
